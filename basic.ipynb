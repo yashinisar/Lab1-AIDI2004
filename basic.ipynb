{
 "cells": [
  {
   "cell_type": "code",
   "execution_count": 1,
   "metadata": {},
   "outputs": [
    {
     "name": "stdout",
     "output_type": "stream",
     "text": [
      "Hello Professor\n"
     ]
    }
   ],
   "source": [
    "print(\"Hello Professor\")"
   ]
  },
  {
   "cell_type": "code",
   "execution_count": 2,
   "metadata": {},
   "outputs": [
    {
     "name": "stdout",
     "output_type": "stream",
     "text": [
      "\n",
      "Contact Management System\n",
      "1. Add Contact\n",
      "2. View Contacts\n",
      "3. Search Contact\n",
      "4. Exit\n",
      "Contact Yashi added successfully!\n",
      "\n",
      "Contact Management System\n",
      "1. Add Contact\n",
      "2. View Contacts\n",
      "3. Search Contact\n",
      "4. Exit\n",
      "Exiting the program.\n"
     ]
    }
   ],
   "source": [
    "# Contact Management System\n",
    "\n",
    "# Define a list to store contact information\n",
    "contacts = []\n",
    "\n",
    "# Function to add a new contact\n",
    "def add_contact(name, phone, email):\n",
    "    contact = {\n",
    "        'name': name,\n",
    "        'phone': phone,\n",
    "        'email': email\n",
    "    }\n",
    "    contacts.append(contact)\n",
    "    print(f\"Contact {name} added successfully!\")\n",
    "\n",
    "# Function to view all contacts\n",
    "def view_contacts():\n",
    "    if not contacts:\n",
    "        print(\"No contacts to display.\")\n",
    "    else:\n",
    "        for contact in contacts:\n",
    "            print(f\"Name: {contact['name']}, Phone: {contact['phone']}, Email: {contact['email']}\")\n",
    "\n",
    "# Function to search for a contact by name\n",
    "def search_contact(name):\n",
    "    for contact in contacts:\n",
    "        if contact['name'].lower() == name.lower():\n",
    "            print(f\"Contact found: Name: {contact['name']}, Phone: {contact['phone']}, Email: {contact['email']}\")\n",
    "            return\n",
    "    print(\"Contact not found.\")\n",
    "\n",
    "# Main program loop\n",
    "while True:\n",
    "    print(\"\\nContact Management System\")\n",
    "    print(\"1. Add Contact\")\n",
    "    print(\"2. View Contacts\")\n",
    "    print(\"3. Search Contact\")\n",
    "    print(\"4. Exit\")\n",
    "\n",
    "    choice = input(\"Enter your choice (1-4): \")\n",
    "\n",
    "    if choice == '1':\n",
    "        name = input(\"Enter contact name: \")\n",
    "        phone = input(\"Enter contact phone: \")\n",
    "        email = input(\"Enter contact email: \")\n",
    "        add_contact(name, phone, email)\n",
    "    elif choice == '2':\n",
    "        view_contacts()\n",
    "    elif choice == '3':\n",
    "        name = input(\"Enter contact name to search: \")\n",
    "        search_contact(name)\n",
    "    elif choice == '4':\n",
    "        print(\"Exiting the program.\")\n",
    "        break\n",
    "    else:\n",
    "        print(\"Invalid choice. Please enter a number between 1 and 4.\")\n"
   ]
  },
  {
   "cell_type": "code",
   "execution_count": null,
   "metadata": {},
   "outputs": [],
   "source": []
  }
 ],
 "metadata": {
  "kernelspec": {
   "display_name": "Python 3",
   "language": "python",
   "name": "python3"
  },
  "language_info": {
   "codemirror_mode": {
    "name": "ipython",
    "version": 3
   },
   "file_extension": ".py",
   "mimetype": "text/x-python",
   "name": "python",
   "nbconvert_exporter": "python",
   "pygments_lexer": "ipython3",
   "version": "3.11.9"
  }
 },
 "nbformat": 4,
 "nbformat_minor": 2
}
